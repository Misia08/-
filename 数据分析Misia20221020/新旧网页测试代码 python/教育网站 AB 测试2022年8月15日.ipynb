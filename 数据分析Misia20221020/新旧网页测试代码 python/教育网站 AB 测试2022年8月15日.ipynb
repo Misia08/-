{
 "cells": [
  {
   "cell_type": "markdown",
   "metadata": {},
   "source": [
    "### 数据集分析\n",
    "本数据集包含4049列数据。每一列包含5行。附上参数说明：\n",
    "\n",
    "timestamp：浏览时间\n",
    "\n",
    "id：用户 id\n",
    "\n",
    "group：用户所属组别\n",
    "\n",
    "action：用户行为，view--仅浏览；enroll--浏览并注册\n",
    "\n",
    "duration：浏览界面时长（浏览越久，可能越感兴趣，就越有可能注册）\n"
   ]
  },
  {
   "cell_type": "markdown",
   "metadata": {},
   "source": [
    "### 目标\n",
    "此网站的客户漏斗模型：浏览主页 > 浏览课程概述页面(课程首页) > 注册课程 > 付费并完成课程。\n",
    "### 通过分析ctr，分层抽样做出假设，来检验新网页的注册率是否更高。"
   ]
  },
  {
   "cell_type": "code",
   "execution_count": 2,
   "metadata": {},
   "outputs": [],
   "source": [
    "import pandas as pd\n",
    "import numpy as np\n",
    "import matplotlib.pyplot as plt\n",
    "import seaborn as sns\n",
    "\n",
    "plt.rc('font', **{'family': 'Microsoft YaHei, SimHei'})  # 设置中文字体的支持\n",
    "\n",
    "# 提高输出效率库\n",
    "from IPython.core.interactiveshell import InteractiveShell # 实现 notebook 的多行输出\n",
    "InteractiveShell.ast_node_interactivity = 'all' #默认为'last'"
   ]
  },
  {
   "cell_type": "markdown",
   "metadata": {},
   "source": [
    "## 课程首页分析\n",
    "新改版的课程首页能使用户停留更久\n",
    "\n",
    "    控制组(control)--旧页面\n",
    "    实验组(experiment)--新页面\n",
    "    这里假设浏览时长越长，用户对该页面就越感兴趣，注册的概率就更高"
   ]
  },
  {
   "cell_type": "code",
   "execution_count": 4,
   "metadata": {
    "scrolled": true
   },
   "outputs": [
    {
     "name": "stdout",
     "output_type": "stream",
     "text": [
      "<class 'pandas.core.frame.DataFrame'>\n",
      "RangeIndex: 4049 entries, 0 to 4048\n",
      "Data columns (total 5 columns):\n",
      " #   Column     Non-Null Count  Dtype  \n",
      "---  ------     --------------  -----  \n",
      " 0   timestamp  4049 non-null   object \n",
      " 1   id         4049 non-null   int64  \n",
      " 2   group      4049 non-null   object \n",
      " 3   action     4049 non-null   object \n",
      " 4   duration   4049 non-null   float64\n",
      "dtypes: float64(1), int64(1), object(3)\n",
      "memory usage: 158.3+ KB\n"
     ]
    },
    {
     "data": {
      "text/html": [
       "<div>\n",
       "<style scoped>\n",
       "    .dataframe tbody tr th:only-of-type {\n",
       "        vertical-align: middle;\n",
       "    }\n",
       "\n",
       "    .dataframe tbody tr th {\n",
       "        vertical-align: top;\n",
       "    }\n",
       "\n",
       "    .dataframe thead th {\n",
       "        text-align: right;\n",
       "    }\n",
       "</style>\n",
       "<table border=\"1\" class=\"dataframe\">\n",
       "  <thead>\n",
       "    <tr style=\"text-align: right;\">\n",
       "      <th></th>\n",
       "      <th>timestamp</th>\n",
       "      <th>id</th>\n",
       "      <th>group</th>\n",
       "      <th>action</th>\n",
       "      <th>duration</th>\n",
       "    </tr>\n",
       "  </thead>\n",
       "  <tbody>\n",
       "    <tr>\n",
       "      <th>2515</th>\n",
       "      <td>2016-12-07 01:37:11.268175</td>\n",
       "      <td>631961</td>\n",
       "      <td>experiment</td>\n",
       "      <td>view</td>\n",
       "      <td>68.934978</td>\n",
       "    </tr>\n",
       "    <tr>\n",
       "      <th>3374</th>\n",
       "      <td>2016-12-30 02:31:18.458697</td>\n",
       "      <td>204225</td>\n",
       "      <td>control</td>\n",
       "      <td>view</td>\n",
       "      <td>64.561215</td>\n",
       "    </tr>\n",
       "    <tr>\n",
       "      <th>286</th>\n",
       "      <td>2016-10-02 02:13:19.878572</td>\n",
       "      <td>576367</td>\n",
       "      <td>control</td>\n",
       "      <td>view</td>\n",
       "      <td>77.202790</td>\n",
       "    </tr>\n",
       "    <tr>\n",
       "      <th>3928</th>\n",
       "      <td>2017-01-15 11:33:49.935581</td>\n",
       "      <td>408319</td>\n",
       "      <td>experiment</td>\n",
       "      <td>view</td>\n",
       "      <td>58.735756</td>\n",
       "    </tr>\n",
       "    <tr>\n",
       "      <th>868</th>\n",
       "      <td>2016-10-18 15:23:21.778902</td>\n",
       "      <td>668031</td>\n",
       "      <td>control</td>\n",
       "      <td>view</td>\n",
       "      <td>4.035522</td>\n",
       "    </tr>\n",
       "  </tbody>\n",
       "</table>\n",
       "</div>"
      ],
      "text/plain": [
       "                       timestamp      id       group action   duration\n",
       "2515  2016-12-07 01:37:11.268175  631961  experiment   view  68.934978\n",
       "3374  2016-12-30 02:31:18.458697  204225     control   view  64.561215\n",
       "286   2016-10-02 02:13:19.878572  576367     control   view  77.202790\n",
       "3928  2017-01-15 11:33:49.935581  408319  experiment   view  58.735756\n",
       "868   2016-10-18 15:23:21.778902  668031     control   view   4.035522"
      ]
     },
     "execution_count": 4,
     "metadata": {},
     "output_type": "execute_result"
    }
   ],
   "source": [
    "course = pd.read_csv('course_page_actions.csv')\n",
    "course.info(); course.sample(5)"
   ]
  },
  {
   "cell_type": "markdown",
   "metadata": {},
   "source": [
    "### 注册率分析\n",
    "点击率 (CTR: click through rate)通常是点击数与浏览数的比例。因为网站页面会使用 cookies，所以我们可以确认单独用户，确保不重复统计同一个用户的点击率。为了进行该实验，我们对点击率作出如下定义：CTR: 单独用户点击数 /  单独用户浏览数\n"
   ]
  },
  {
   "cell_type": "code",
   "execution_count": 3,
   "metadata": {},
   "outputs": [
    {
     "name": "stdout",
     "output_type": "stream",
     "text": [
      "控制组...\n",
      "{'注册数': 370, '浏览数': 1579, '注册率': '23.4326%'}\n",
      "---------------------------------------------\n",
      "实验组...\n",
      "{'注册数': 439, '浏览数': 1645, '注册率': '26.6869%'}\n"
     ]
    }
   ],
   "source": [
    "# 控制组注册率\n",
    "control_enroll_num = course[ (course['group']=='control') & \n",
    "                         (course['action']=='enroll') ]['id'].nunique() \n",
    "control_view_num = course[ (course['group']=='control') & \n",
    "                         (course['action']=='view') ]['id'].nunique()\n",
    "control_ctr = round((control_enroll_num*100 / control_view_num), 4)\n",
    "\n",
    "print(f'控制组...')\n",
    "control = {'注册数': control_enroll_num,\n",
    "          '浏览数': control_view_num, \n",
    "          '注册率': str(control_ctr) + '%'}\n",
    "print(control)\n",
    "\n",
    "print('-'*45)\n",
    "\n",
    "# 实验组注册率\n",
    "exp_enroll_num = course[ (course['group']=='experiment') & \n",
    "                         (course['action']=='enroll') ]['id'].nunique() \n",
    "exp_view_num = course[ (course['group']=='experiment') & \n",
    "                         (course['action']=='view') ]['id'].nunique()\n",
    "exp_ctr = round((exp_enroll_num*100 / exp_view_num), 4)\n",
    "\n",
    "print(f'实验组...')\n",
    "exp = {'注册数': exp_enroll_num,\n",
    "          '浏览数': exp_view_num, \n",
    "          '注册率': str(exp_ctr) + '%'}\n",
    "print(exp)"
   ]
  },
  {
   "cell_type": "markdown",
   "metadata": {},
   "source": [
    "### 浏览时长可视化"
   ]
  },
  {
   "cell_type": "code",
   "execution_count": 5,
   "metadata": {},
   "outputs": [
    {
     "name": "stderr",
     "output_type": "stream",
     "text": [
      "D:\\conda\\lib\\site-packages\\seaborn\\distributions.py:2619: FutureWarning: `distplot` is a deprecated function and will be removed in a future version. Please adapt your code to use either `displot` (a figure-level function with similar flexibility) or `histplot` (an axes-level function for histograms).\n",
      "  warnings.warn(msg, FutureWarning)\n"
     ]
    },
    {
     "data": {
      "text/plain": [
       "<AxesSubplot:xlabel='duration', ylabel='Density'>"
      ]
     },
     "execution_count": 5,
     "metadata": {},
     "output_type": "execute_result"
    },
    {
     "data": {
      "text/plain": [
       "<matplotlib.legend.Legend at 0x24710e72fd0>"
      ]
     },
     "execution_count": 5,
     "metadata": {},
     "output_type": "execute_result"
    },
    {
     "name": "stderr",
     "output_type": "stream",
     "text": [
      "D:\\conda\\lib\\site-packages\\seaborn\\distributions.py:2619: FutureWarning: `distplot` is a deprecated function and will be removed in a future version. Please adapt your code to use either `displot` (a figure-level function with similar flexibility) or `histplot` (an axes-level function for histograms).\n",
      "  warnings.warn(msg, FutureWarning)\n"
     ]
    },
    {
     "data": {
      "text/plain": [
       "<AxesSubplot:xlabel='duration', ylabel='Density'>"
      ]
     },
     "execution_count": 5,
     "metadata": {},
     "output_type": "execute_result"
    },
    {
     "data": {
      "text/plain": [
       "<matplotlib.legend.Legend at 0x24710ee3f40>"
      ]
     },
     "execution_count": 5,
     "metadata": {},
     "output_type": "execute_result"
    },
    {
     "data": {
      "text/plain": [
       "Text(0.5, 1.0, '实验组浏览时长分布')"
      ]
     },
     "execution_count": 5,
     "metadata": {},
     "output_type": "execute_result"
    },
    {
     "data": {
      "text/plain": [
       "Text(0.5, 1.0, '控制组浏览时长分布')"
      ]
     },
     "execution_count": 5,
     "metadata": {},
     "output_type": "execute_result"
    },
    {
     "data": {
      "image/png": "[encoded data removed]",
      "text/plain": [
       "<Figure size 1152x288 with 2 Axes>"
      ]
     },
     "metadata": {
      "needs_background": "light"
     },
     "output_type": "display_data"
    }
   ],
   "source": [
    "from scipy.stats import norm  # 用于拟合正态分布曲线\n",
    "\n",
    "# 设置布局\n",
    "fig = plt.figure(figsize=(16, 4))\n",
    "ax1 = fig.add_subplot(121)\n",
    "ax2 = fig.add_subplot(122)\n",
    "\n",
    "exp_duration = course.query('group == \"experiment\"')['duration']\n",
    "con_duration = course.query('group == \"control\"')['duration']\n",
    "\n",
    "sns.distplot(exp_duration, fit=norm, color='#F77B72', \n",
    "             kde_kws={\"color\":'#F77B72', \"lw\":3 }, ax=ax1)#kdeplot(核密度估计图)\n",
    "(mu, sigma) = norm.fit(exp_duration)  # 求同等条件下正态分布的 mu 和 sigma\n",
    "# 添加图例：使用格式化输入，loc='best' 表示自动将图例放到最合适的位置\n",
    "ax1.legend(['Normal dist. ($\\mu=$ {:.2f} and $\\sigma=$ {:.2f} )'. \\\n",
    "           format(mu, sigma)] ,loc='best')\n",
    "\n",
    "sns.distplot(con_duration, fit=norm, color='#4CB5AB', \n",
    "             kde_kws={\"color\": '#4CB5AB', \"lw\":3 }, ax=ax2)\n",
    "(mu, sigma) = norm.fit(con_duration)  # 求同等条件下正态分布的 mu 和 sigma\n",
    "# 添加图例：使用格式化输入，loc='best' 表示自动将图例放到最合适的位置\n",
    "ax2.legend(['Normal dist. ($\\mu=$ {:.2f} and $\\sigma=$ {:.2f} )'. \\\n",
    "           format(mu, sigma)] ,loc='best')\n",
    "\n",
    "# 给子图添加标题\n",
    "ax1.set_title('实验组浏览时长分布')\n",
    "ax2.set_title('控制组浏览时长分布')"
   ]
  },
  {
   "cell_type": "markdown",
   "metadata": {},
   "source": [
    "###### 结果分析\n",
    "新界面的注册率有所提高，而浏览时长方面均呈现轻微的右偏，\n",
    "\n",
    "实验组的浏览时长平均值比控制组高 15mins 左右，方差差别不大\n",
    "\n",
    "### 可初步判断新改版的课程首页更吸引用户，后续将会进行假设检验来进一步验证我们的猜想"
   ]
  },
  {
   "cell_type": "markdown",
   "metadata": {},
   "source": [
    "### 假设检验\n",
    "我们将从控制组和实验组中各抽取一定数量的样本来进行假设检验\n",
    "\n",
    "置信水平 α 的选择经验\n",
    "\n",
    "    样本量      α-level\n",
    "    ≤100        10%\n",
    "    100＜n≤500   5%\n",
    "    500＜n≤1000  1%\n",
    "    n＞2000     千分之一\n",
    "\n",
    "样本量过大，α-level 就没什么意义了。"
   ]
  },
  {
   "cell_type": "markdown",
   "metadata": {},
   "source": [
    "使用分层抽样，Python 没有现成的库或函数，可以使用前人的轮子"
   ]
  },
  {
   "cell_type": "code",
   "execution_count": 6,
   "metadata": {},
   "outputs": [
    {
     "name": "stderr",
     "output_type": "stream",
     "text": [
      "C:\\Users\\11974\\mysampling.py:36: SyntaxWarning: \"is\" with a literal. Did you mean \"==\"?\n",
      "  if sampling is \"stratified\":\n",
      "C:\\Users\\11974\\mysampling.py:48: SyntaxWarning: \"is\" with a literal. Did you mean \"==\"?\n",
      "  if sampling is \"simple_random\":\n",
      "C:\\Users\\11974\\mysampling.py:54: SyntaxWarning: \"is\" with a literal. Did you mean \"==\"?\n",
      "  elif sampling is \"systematic\":\n",
      "C:\\Users\\11974\\mysampling.py:63: SyntaxWarning: \"is\" with a literal. Did you mean \"==\"?\n",
      "  elif sampling is \"stratified\":\n"
     ]
    }
   ],
   "source": [
    "from mysampling import get_sample"
   ]
  },
  {
   "cell_type": "code",
   "execution_count": 9,
   "metadata": {
    "scrolled": true
   },
   "outputs": [
    {
     "data": {
      "text/html": [
       "<div>\n",
       "<style scoped>\n",
       "    .dataframe tbody tr th:only-of-type {\n",
       "        vertical-align: middle;\n",
       "    }\n",
       "\n",
       "    .dataframe tbody tr th {\n",
       "        vertical-align: top;\n",
       "    }\n",
       "\n",
       "    .dataframe thead th {\n",
       "        text-align: right;\n",
       "    }\n",
       "</style>\n",
       "<table border=\"1\" class=\"dataframe\">\n",
       "  <thead>\n",
       "    <tr style=\"text-align: right;\">\n",
       "      <th></th>\n",
       "      <th>timestamp</th>\n",
       "      <th>id</th>\n",
       "      <th>group</th>\n",
       "      <th>action</th>\n",
       "      <th>duration</th>\n",
       "    </tr>\n",
       "  </thead>\n",
       "  <tbody>\n",
       "    <tr>\n",
       "      <th>3677</th>\n",
       "      <td>2017-01-08 08:41:04.432002</td>\n",
       "      <td>619996</td>\n",
       "      <td>experiment</td>\n",
       "      <td>enroll</td>\n",
       "      <td>190.354290</td>\n",
       "    </tr>\n",
       "    <tr>\n",
       "      <th>1741</th>\n",
       "      <td>2016-11-13 22:07:36.371947</td>\n",
       "      <td>563127</td>\n",
       "      <td>control</td>\n",
       "      <td>view</td>\n",
       "      <td>76.617862</td>\n",
       "    </tr>\n",
       "    <tr>\n",
       "      <th>1392</th>\n",
       "      <td>2016-11-04 02:15:45.399219</td>\n",
       "      <td>330681</td>\n",
       "      <td>control</td>\n",
       "      <td>view</td>\n",
       "      <td>72.063602</td>\n",
       "    </tr>\n",
       "    <tr>\n",
       "      <th>1588</th>\n",
       "      <td>2016-11-10 02:21:41.580006</td>\n",
       "      <td>572647</td>\n",
       "      <td>control</td>\n",
       "      <td>view</td>\n",
       "      <td>123.104939</td>\n",
       "    </tr>\n",
       "  </tbody>\n",
       "</table>\n",
       "</div>"
      ],
      "text/plain": [
       "                       timestamp      id       group  action    duration\n",
       "3677  2017-01-08 08:41:04.432002  619996  experiment  enroll  190.354290\n",
       "1741  2016-11-13 22:07:36.371947  563127     control    view   76.617862\n",
       "1392  2016-11-04 02:15:45.399219  330681     control    view   72.063602\n",
       "1588  2016-11-10 02:21:41.580006  572647     control    view  123.104939"
      ]
     },
     "execution_count": 9,
     "metadata": {},
     "output_type": "execute_result"
    },
    {
     "name": "stdout",
     "output_type": "stream",
     "text": [
      "<class 'pandas.core.frame.DataFrame'>\n",
      "Int64Index: 600 entries, 835 to 3302\n",
      "Data columns (total 5 columns):\n",
      " #   Column     Non-Null Count  Dtype  \n",
      "---  ------     --------------  -----  \n",
      " 0   timestamp  600 non-null    object \n",
      " 1   id         600 non-null    object \n",
      " 2   group      600 non-null    object \n",
      " 3   action     600 non-null    object \n",
      " 4   duration   600 non-null    float64\n",
      "dtypes: float64(1), object(4)\n",
      "memory usage: 28.1+ KB\n"
     ]
    }
   ],
   "source": [
    "# df: 输入的数据框 pandas.dataframe 对象\n",
    "\n",
    "# sampling:抽样方法 str\n",
    " ## 可选值有 [\"simple_random\", \"stratified\", \"systematic\"]\n",
    " ## 按顺序分别为: 简单随机抽样、分层抽样、系统抽样\n",
    "\n",
    "# stratified_col: 需要分层的列名的列表 list，只有在分层抽样时才生效\n",
    "\n",
    "# k: 抽样个数或抽样比例 int or float\n",
    "    ## (int, 则必须大于0; float, 则必须在区间(0,1)中)\n",
    "    ## 如果 0 < k < 1 , 则 k 表示抽样对于总体的比例\n",
    "    ## 如果 k >= 1 , 则 k 表示抽样的个数；当为分层抽样时，代表每层的样本量\n",
    "\n",
    "data = get_sample(df=course, sampling='stratified', \n",
    "                  stratified_col=['group'], k=300)\n",
    "data.sample(4); data.info()"
   ]
  },
  {
   "cell_type": "code",
   "execution_count": 10,
   "metadata": {},
   "outputs": [
    {
     "name": "stdout",
     "output_type": "stream",
     "text": [
      "两独立样本 T 检验...\n"
     ]
    },
    {
     "data": {
      "text/plain": [
       "Ttest_indResult(statistic=1.1542830452347985, pvalue=0.2488452224388853)"
      ]
     },
     "execution_count": 10,
     "metadata": {},
     "output_type": "execute_result"
    },
    {
     "name": "stdout",
     "output_type": "stream",
     "text": [
      "---------------------------------------------\n",
      "双样本 Z 检验...\n"
     ]
    },
    {
     "data": {
      "text/plain": [
       "(1.1542830452347985, 0.24838414527694386)"
      ]
     },
     "execution_count": 10,
     "metadata": {},
     "output_type": "execute_result"
    }
   ],
   "source": [
    "# 总体未知，可采用两独立样本T检验\n",
    "from scipy import stats\n",
    "\n",
    "exp_duration = data.query('group == \"experiment\"')['duration']\n",
    "con_duration = data.query('group == \"control\"')['duration']\n",
    "\n",
    "print('两独立样本 T 检验...')\n",
    "stats.ttest_ind(a=exp_duration, b=con_duration)\n",
    "print('-'*45)\n",
    "print('双样本 Z 检验...')\n",
    "import statsmodels.  api as sm\n",
    "sm.stats.ztest(x1=exp_duration, x2=con_duration)"
   ]
  },
  {
   "cell_type": "markdown",
   "metadata": {},
   "source": [
    "### 结论综述，我们将拒绝零假设，接受 “ 新界面的浏览时长显著不同于(高于)旧界面 ” 的这个假设。\n"
   ]
  }
 ],
 "metadata": {
  "kernelspec": {
   "display_name": "Python 3 (ipykernel)",
   "language": "python",
   "name": "python3"
  },
  "language_info": {
   "codemirror_mode": {
    "name": "ipython",
    "version": 3
   },
   "file_extension": ".py",
   "mimetype": "text/x-python",
   "name": "python",
   "nbconvert_exporter": "python",
   "pygments_lexer": "ipython3",
   "version": "3.9.7"
  },
  "latex_envs": {
   "LaTeX_envs_menu_present": true,
   "autoclose": false,
   "autocomplete": true,
   "bibliofile": "biblio.bib",
   "cite_by": "apalike",
   "current_citInitial": 1,
   "eqLabelWithNumbers": true,
   "eqNumInitial": 1,
   "hotkeys": {
    "equation": "Ctrl-E",
    "itemize": "Ctrl-I"
   },
   "labels_anchors": false,
   "latex_user_defs": false,
   "report_style_numbering": false,
   "user_envs_cfg": false
  },
  "toc": {
   "base_numbering": 1,
   "nav_menu": {},
   "number_sections": true,
   "sideBar": true,
   "skip_h1_title": false,
   "title_cell": "Table of Contents",
   "title_sidebar": "Contents",
   "toc_cell": false,
   "toc_position": {},
   "toc_section_display": true,
   "toc_window_display": false
  },
  "varInspector": {
   "cols": {
    "lenName": 16,
    "lenType": 16,
    "lenVar": 40
   },
   "kernels_config": {
    "python": {
     "delete_cmd_postfix": "",
     "delete_cmd_prefix": "del ",
     "library": "var_list.py",
     "varRefreshCmd": "print(var_dic_list())"
    },
    "r": {
     "delete_cmd_postfix": ") ",
     "delete_cmd_prefix": "rm(",
     "library": "var_list.r",
     "varRefreshCmd": "cat(var_dic_list()) "
    }
   },
   "types_to_exclude": [
    "module",
    "function",
    "builtin_function_or_method",
    "instance",
    "_Feature"
   ],
   "window_display": false
  }
 },
 "nbformat": 4,
 "nbformat_minor": 2
}
